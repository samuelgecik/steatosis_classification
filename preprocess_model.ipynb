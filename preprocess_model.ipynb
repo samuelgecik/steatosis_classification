{
 "cells": [
  {
   "cell_type": "code",
   "execution_count": null,
   "metadata": {},
   "outputs": [],
   "source": [
    "import torch\n",
    "import torchvision.models as models\n",
    "from collections import OrderedDict\n",
    "from pathlib import Path\n",
    "\n",
    "# Set random seeds for reproducibility\n",
    "torch.manual_seed(42)\n",
    "if torch.cuda.is_available():\n",
    "    torch.cuda.manual_seed(42)"
   ]
  },
  {
   "cell_type": "markdown",
   "metadata": {},
   "source": [
    "## Load Original Model\n",
    "\n",
    "Load the original state dict and examine its structure."
   ]
  },
  {
   "cell_type": "code",
   "execution_count": 1,
   "metadata": {},
   "outputs": [
    {
     "ename": "NameError",
     "evalue": "name 'torch' is not defined",
     "output_type": "error",
     "traceback": [
      "\u001b[31m---------------------------------------------------------------------------\u001b[39m",
      "\u001b[31mNameError\u001b[39m                                 Traceback (most recent call last)",
      "\u001b[36mCell\u001b[39m\u001b[36m \u001b[39m\u001b[32mIn[1]\u001b[39m\u001b[32m, line 3\u001b[39m\n\u001b[32m      1\u001b[39m \u001b[38;5;66;03m# Load original state dict\u001b[39;00m\n\u001b[32m      2\u001b[39m original_path = \u001b[33m'\u001b[39m\u001b[33mModels/DenseNet121.pt\u001b[39m\u001b[33m'\u001b[39m\n\u001b[32m----> \u001b[39m\u001b[32m3\u001b[39m state_dict = \u001b[43mtorch\u001b[49m.load(original_path)\n\u001b[32m      5\u001b[39m \u001b[38;5;66;03m# Print original keys structure\u001b[39;00m\n\u001b[32m      6\u001b[39m \u001b[38;5;28mprint\u001b[39m(\u001b[33m\"\u001b[39m\u001b[33mOriginal state dict structure:\u001b[39m\u001b[33m\"\u001b[39m)\n",
      "\u001b[31mNameError\u001b[39m: name 'torch' is not defined"
     ]
    }
   ],
   "source": [
    "# Load original state dict\n",
    "original_path = 'Models/DenseNet121.pt'\n",
    "state_dict = torch.load(original_path)\n",
    "\n",
    "# Print original keys structure\n",
    "print(\"Original state dict structure:\")\n",
    "for key in list(state_dict.keys())[:5]:\n",
    "    print(f\"  {key}\")\n",
    "print(\"  ...\")"
   ]
  },
  {
   "cell_type": "markdown",
   "metadata": {},
   "source": [
    "## Create New Model\n",
    "\n",
    "Initialize a fresh DenseNet121 model and examine its expected structure."
   ]
  },
  {
   "cell_type": "code",
   "execution_count": null,
   "metadata": {},
   "outputs": [
    {
     "name": "stdout",
     "output_type": "stream",
     "text": [
      "Expected model structure:\n",
      "  features.conv0.weight\n",
      "  features.norm0.weight\n",
      "  features.norm0.bias\n",
      "  features.norm0.running_mean\n",
      "  features.norm0.running_var\n",
      "  ...\n"
     ]
    }
   ],
   "source": [
    "# Initialize new DenseNet121\n",
    "new_model = models.densenet121(weights=None)\n",
    "\n",
    "# Print expected keys structure\n",
    "print(\"Expected model structure:\")\n",
    "for key in list(new_model.state_dict().keys())[:5]:\n",
    "    print(f\"  {key}\")\n",
    "print(\"  ...\")"
   ]
  },
  {
   "cell_type": "markdown",
   "metadata": {},
   "source": [
    "## Preprocess State Dict\n",
    "\n",
    "Convert the original state dict to match the expected structure."
   ]
  },
  {
   "cell_type": "code",
   "execution_count": null,
   "metadata": {},
   "outputs": [],
   "source": [
    "# Create new state dict with correct mapping\n",
    "new_state_dict = OrderedDict()\n",
    "\n",
    "for k, v in state_dict.items():\n",
    "    if k.startswith('backbone.0.'):\n",
    "        # Remove backbone.0. prefix and map to features\n",
    "        new_key = k.replace('backbone.0.', 'features.')\n",
    "        new_state_dict[new_key] = v\n",
    "\n",
    "print(\"\\nNew state dict structure:\")\n",
    "for key in list(new_state_dict.keys())[:5]:\n",
    "    print(f\"  {key}\")\n",
    "print(\"  ...\")\n",
    "\n",
    "# Verify shapes match\n",
    "print(\"\\nVerifying tensor shapes:\")\n",
    "model_state = new_model.state_dict()\n",
    "for key in list(new_state_dict.keys())[:5]:\n",
    "    if key in model_state:\n",
    "        print(f\"  {key}: {new_state_dict[key].shape} -> {model_state[key].shape}\")"
   ]
  },
  {
   "cell_type": "markdown",
   "metadata": {},
   "source": [
    "## Validate and Save\n",
    "\n",
    "Test loading the preprocessed state dict and save if successful."
   ]
  },
  {
   "cell_type": "code",
   "execution_count": null,
   "metadata": {},
   "outputs": [],
   "source": [
    "# Try loading the state dict\n",
    "try:\n",
    "    print(\"Attempting to load preprocessed state dict...\")\n",
    "    missing_keys, unexpected_keys = new_model.load_state_dict(new_state_dict, strict=False)\n",
    "    \n",
    "    print(f\"\\nMissing keys: {len(missing_keys)}\")\n",
    "    if missing_keys:\n",
    "        print(\"First few missing keys:\")\n",
    "        for key in missing_keys[:5]:\n",
    "            print(f\"  {key}\")\n",
    "    \n",
    "    print(f\"\\nUnexpected keys: {len(unexpected_keys)}\")\n",
    "    if unexpected_keys:\n",
    "        print(\"First few unexpected keys:\")\n",
    "        for key in unexpected_keys[:5]:\n",
    "            print(f\"  {key}\")\n",
    "    \n",
    "    if not missing_keys and not unexpected_keys:\n",
    "        print(\"\\nState dict loaded successfully!\")\n",
    "        \n",
    "    # Save preprocessed state dict\n",
    "    output_path = 'Models/DenseNet121_processed.pt'\n",
    "    torch.save(new_state_dict, output_path)\n",
    "    print(f\"\\nSaved preprocessed model to: {output_path}\")\n",
    "    \n",
    "except Exception as e:\n",
    "    print(f\"Error loading state dict: {str(e)}\")"
   ]
  },
  {
   "cell_type": "markdown",
   "metadata": {},
   "source": [
    "## Verify Saved Model\n",
    "\n",
    "Load the saved preprocessed model to verify it works correctly."
   ]
  },
  {
   "cell_type": "code",
   "execution_count": null,
   "metadata": {},
   "outputs": [],
   "source": [
    "# Try loading the saved preprocessed model\n",
    "try:\n",
    "    # Load the saved state dict\n",
    "    print(\"Loading saved preprocessed model...\")\n",
    "    processed_state_dict = torch.load('Models/DenseNet121_processed.pt')\n",
    "    \n",
    "    # Create a fresh model and load the state dict\n",
    "    test_model = models.densenet121(weights=None)\n",
    "    test_model.load_state_dict(processed_state_dict, strict=False)\n",
    "    \n",
    "    print(\"Successfully loaded preprocessed model!\")\n",
    "    print(f\"Model parameters: {sum(p.numel() for p in test_model.parameters()):,}\")\n",
    "    \n",
    "except Exception as e:\n",
    "    print(f\"Error verifying saved model: {str(e)}\")"
   ]
  }
 ],
 "metadata": {
  "kernelspec": {
   "display_name": ".venv",
   "language": "python",
   "name": "python3"
  },
  "language_info": {
   "codemirror_mode": {
    "name": "ipython",
    "version": 3
   },
   "file_extension": ".py",
   "mimetype": "text/x-python",
   "name": "python",
   "nbconvert_exporter": "python",
   "pygments_lexer": "ipython3",
   "version": "3.11.2"
  }
 },
 "nbformat": 4,
 "nbformat_minor": 4
}
