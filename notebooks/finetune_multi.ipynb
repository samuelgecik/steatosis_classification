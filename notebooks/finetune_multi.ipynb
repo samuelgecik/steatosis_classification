{
 "cells": [
  {
   "cell_type": "markdown",
   "metadata": {},
   "source": [
    "# Steatosis Classification Model Fine-tuning\n",
    "\n",
    "This notebook implements the fine-tuning process with comprehensive metric tracking."
   ]
  },
  {
   "cell_type": "code",
   "execution_count": 126,
   "metadata": {},
   "outputs": [],
   "source": [
    "import sys\n",
    "sys.path.append('..')  # Add parent directory to Python path"
   ]
  },
  {
   "cell_type": "code",
   "execution_count": 127,
   "metadata": {},
   "outputs": [],
   "source": [
    "%matplotlib inline\n",
    "\n",
    "import torch\n",
    "import torch.nn as nn\n",
    "from torch.utils.data import DataLoader\n",
    "import matplotlib.pyplot as plt\n",
    "from pathlib import Path\n",
    "import json\n",
    "from datetime import datetime\n",
    "from tqdm.notebook import tqdm\n",
    "from collections import defaultdict\n",
    "import pandas as pd\n",
    "import seaborn as sns\n",
    "\n",
    "from src.model import SteatosisModel, get_loss_fn\n",
    "from src.data import create_dataloaders\n",
    "from src.evaluation import MetricsCalculator\n",
    "\n",
    "# Set random seeds for reproducibility\n",
    "torch.manual_seed(42)\n",
    "if torch.cuda.is_available():\n",
    "    torch.cuda.manual_seed(42)"
   ]
  },
  {
   "cell_type": "markdown",
   "metadata": {},
   "source": [
    "## Configuration"
   ]
  },
  {
   "cell_type": "code",
   "execution_count": 128,
   "metadata": {},
   "outputs": [
    {
     "name": "stdout",
     "output_type": "stream",
     "text": [
      "Using device: cuda\n"
     ]
    }
   ],
   "source": [
    "# Paths\n",
    "MODEL_PATH = '../Models/DenseNet121_processed.pt'\n",
    "DATA_DIR = '../DataSet'\n",
    "OUTPUT_DIR = '../training_output'\n",
    "LOG_DIR = '../logs'\n",
    "\n",
    "# Training parameters\n",
    "RUN_NAME = 'DenseNet121_processed-'+ datetime.now().strftime(\"%Y%m%d-%H%M\")\n",
    "BATCH_SIZE = 16\n",
    "BINARY = False\n",
    "NUM_CLASSES = 2 if BINARY else 3\n",
    "\n",
    "# Create directories\n",
    "Path(OUTPUT_DIR).mkdir(exist_ok=True)\n",
    "Path(LOG_DIR).mkdir(exist_ok=True)\n",
    "\n",
    "# Set device\n",
    "device = torch.device('cuda' if torch.cuda.is_available() else 'cpu')\n",
    "print(f\"Using device: {device}\")"
   ]
  },
  {
   "cell_type": "code",
   "execution_count": 129,
   "metadata": {},
   "outputs": [
    {
     "name": "stdout",
     "output_type": "stream",
     "text": [
      "PyTorch version: 2.6.0+cu124\n",
      "CUDA available: True\n",
      "CUDA version: 12.4\n",
      "GPU device name: NVIDIA GeForce RTX 3060 Laptop GPU\n"
     ]
    }
   ],
   "source": [
    "import torch\n",
    "print(f\"PyTorch version: {torch.__version__}\")\n",
    "print(f\"CUDA available: {torch.cuda.is_available()}\")\n",
    "print(f\"CUDA version: {torch.version.cuda if torch.cuda.is_available() else 'Not available'}\")\n",
    "print(f\"GPU device name: {torch.cuda.get_device_name(0) if torch.cuda.is_available() else 'No GPU'}\")"
   ]
  },
  {
   "cell_type": "markdown",
   "metadata": {},
   "source": [
    "## Data Loading"
   ]
  },
  {
   "cell_type": "code",
   "execution_count": 130,
   "metadata": {},
   "outputs": [
    {
     "name": "stdout",
     "output_type": "stream",
     "text": [
      "tensor([0.5144, 1.3782, 3.0253])\n",
      "tensor([0.7738, 1.2801, 1.0792])\n",
      "tensor([0.5144, 1.3782, 3.0253])\n",
      "tensor([0.7738, 1.2801, 1.0792])\n",
      "Training samples: 4420\n",
      "Validation samples: 722\n",
      "Training batches: 277\n",
      "Validation batches: 46\n"
     ]
    }
   ],
   "source": [
    "train_samples, val_samples = create_dataloaders(\n",
    "    data_dir=DATA_DIR,\n",
    "    batch_size=1,\n",
    "    binary=BINARY\n",
    ")\n",
    "\n",
    "train_loader, val_loader = create_dataloaders(\n",
    "    data_dir=DATA_DIR,\n",
    "    batch_size=BATCH_SIZE,\n",
    "    binary=BINARY\n",
    ")\n",
    "\n",
    "print(f\"Training samples: {len(train_samples)}\")\n",
    "print(f\"Validation samples: {len(val_samples)}\")\n",
    "print(f\"Training batches: {len(train_loader)}\")\n",
    "print(f\"Validation batches: {len(val_loader)}\")"
   ]
  },
  {
   "cell_type": "code",
   "execution_count": 131,
   "metadata": {},
   "outputs": [
    {
     "name": "stdout",
     "output_type": "stream",
     "text": [
      "[tensor([[[[-2.0665, -2.0665, -2.0665,  ..., -2.0665, -2.0665, -2.0665],\n",
      "          [-2.0665, -2.0665, -2.0665,  ..., -2.0665, -2.0665, -2.0665],\n",
      "          [-2.0665, -2.0665, -2.0665,  ..., -2.0665, -2.0665, -2.0665],\n",
      "          ...,\n",
      "          [-2.0665, -2.0665, -2.0665,  ..., -2.0665, -2.0665, -2.0665],\n",
      "          [-2.0665, -2.0665, -2.0665,  ..., -2.0665, -2.0665, -2.0665],\n",
      "          [-2.0665, -2.0665, -2.0665,  ..., -2.0665, -2.0665, -2.0665]],\n",
      "\n",
      "         [[-1.9832, -1.9832, -1.9832,  ..., -1.9832, -1.9832, -1.9832],\n",
      "          [-1.9832, -1.9832, -1.9832,  ..., -1.9832, -1.9832, -1.9832],\n",
      "          [-1.9832, -1.9832, -1.9832,  ..., -1.9832, -1.9832, -1.9832],\n",
      "          ...,\n",
      "          [-1.9832, -1.9832, -1.9832,  ..., -1.9832, -1.9832, -1.9832],\n",
      "          [-1.9832, -1.9832, -1.9832,  ..., -1.9832, -1.9832, -1.9832],\n",
      "          [-1.9832, -1.9832, -1.9832,  ..., -1.9832, -1.9832, -1.9832]],\n",
      "\n",
      "         [[-1.7522, -1.7522, -1.7522,  ..., -1.7522, -1.7522, -1.7522],\n",
      "          [-1.7522, -1.7522, -1.7522,  ..., -1.7522, -1.7522, -1.7522],\n",
      "          [-1.7522, -1.7522, -1.7522,  ..., -1.7522, -1.7522, -1.7522],\n",
      "          ...,\n",
      "          [-1.7522, -1.7522, -1.7522,  ..., -1.7522, -1.7522, -1.7522],\n",
      "          [-1.7522, -1.7522, -1.7522,  ..., -1.7522, -1.7522, -1.7522],\n",
      "          [-1.7522, -1.7522, -1.7522,  ..., -1.7522, -1.7522, -1.7522]]],\n",
      "\n",
      "\n",
      "        [[[-2.1179, -2.1179, -2.1179,  ..., -2.1179, -2.1179, -2.1179],\n",
      "          [-2.1179, -2.1179, -2.1179,  ..., -2.1179, -2.1179, -2.1179],\n",
      "          [-2.1179, -2.1179, -2.1179,  ..., -2.1179, -2.1179, -2.1179],\n",
      "          ...,\n",
      "          [-2.1179, -2.1179, -2.1179,  ..., -2.1179, -2.1179, -2.1179],\n",
      "          [-2.1179, -2.1179, -2.1179,  ..., -2.1179, -2.1179, -2.1179],\n",
      "          [-2.1179, -2.1179, -2.1179,  ..., -2.1179, -2.1179, -2.1179]],\n",
      "\n",
      "         [[-2.0357, -2.0357, -2.0357,  ..., -2.0357, -2.0357, -2.0357],\n",
      "          [-2.0357, -2.0357, -2.0357,  ..., -2.0357, -2.0357, -2.0357],\n",
      "          [-2.0357, -2.0357, -2.0357,  ..., -2.0357, -2.0357, -2.0357],\n",
      "          ...,\n",
      "          [-2.0357, -2.0357, -2.0357,  ..., -2.0357, -2.0357, -2.0357],\n",
      "          [-2.0357, -2.0357, -2.0357,  ..., -2.0357, -2.0357, -2.0357],\n",
      "          [-2.0357, -2.0357, -2.0357,  ..., -2.0357, -2.0357, -2.0357]],\n",
      "\n",
      "         [[-1.8044, -1.8044, -1.8044,  ..., -1.8044, -1.8044, -1.8044],\n",
      "          [-1.8044, -1.8044, -1.8044,  ..., -1.8044, -1.8044, -1.8044],\n",
      "          [-1.8044, -1.8044, -1.8044,  ..., -1.8044, -1.8044, -1.8044],\n",
      "          ...,\n",
      "          [-1.8044, -1.8044, -1.8044,  ..., -1.8044, -1.8044, -1.8044],\n",
      "          [-1.8044, -1.8044, -1.8044,  ..., -1.8044, -1.8044, -1.8044],\n",
      "          [-1.8044, -1.8044, -1.8044,  ..., -1.8044, -1.8044, -1.8044]]],\n",
      "\n",
      "\n",
      "        [[[-2.1179, -2.1179, -2.1179,  ..., -2.1179, -2.1179, -2.1179],\n",
      "          [-2.1179, -2.1179, -2.1179,  ..., -2.1179, -2.1179, -2.1179],\n",
      "          [-2.1179, -2.1179, -2.1179,  ..., -2.1179, -2.1179, -2.1179],\n",
      "          ...,\n",
      "          [-2.1179, -2.1179, -2.1179,  ..., -2.1179, -2.1179, -2.1179],\n",
      "          [-2.1179, -2.1179, -2.1179,  ..., -2.1179, -2.1179, -2.1179],\n",
      "          [-2.1179, -2.1179, -2.1179,  ..., -2.1179, -2.1179, -2.1179]],\n",
      "\n",
      "         [[-2.0357, -2.0357, -2.0357,  ..., -2.0357, -2.0357, -2.0357],\n",
      "          [-2.0357, -2.0357, -2.0357,  ..., -2.0357, -2.0357, -2.0357],\n",
      "          [-2.0357, -2.0357, -2.0357,  ..., -2.0357, -2.0357, -2.0357],\n",
      "          ...,\n",
      "          [-2.0357, -2.0357, -2.0357,  ..., -2.0357, -2.0357, -2.0357],\n",
      "          [-2.0357, -2.0357, -2.0357,  ..., -2.0357, -2.0357, -2.0357],\n",
      "          [-2.0357, -2.0357, -2.0357,  ..., -2.0357, -2.0357, -2.0357]],\n",
      "\n",
      "         [[-1.8044, -1.8044, -1.8044,  ..., -1.8044, -1.8044, -1.8044],\n",
      "          [-1.8044, -1.8044, -1.8044,  ..., -1.8044, -1.8044, -1.8044],\n",
      "          [-1.8044, -1.8044, -1.8044,  ..., -1.8044, -1.8044, -1.8044],\n",
      "          ...,\n",
      "          [-1.8044, -1.8044, -1.8044,  ..., -1.8044, -1.8044, -1.8044],\n",
      "          [-1.8044, -1.8044, -1.8044,  ..., -1.8044, -1.8044, -1.8044],\n",
      "          [-1.8044, -1.8044, -1.8044,  ..., -1.8044, -1.8044, -1.8044]]],\n",
      "\n",
      "\n",
      "        ...,\n",
      "\n",
      "\n",
      "        [[[-2.1179, -2.1179, -2.1179,  ..., -2.1179, -2.1179, -2.1179],\n",
      "          [-2.1179, -2.1179, -2.1179,  ..., -2.1179, -2.1179, -2.1179],\n",
      "          [-2.1179, -2.1179, -2.1179,  ..., -2.1179, -2.1179, -2.1179],\n",
      "          ...,\n",
      "          [-2.1179, -2.1179, -2.1179,  ..., -2.1179, -2.1179, -2.1179],\n",
      "          [-2.1179, -2.1179, -2.1179,  ..., -2.1179, -2.1179, -2.1179],\n",
      "          [-2.1179, -2.1179, -2.1179,  ..., -2.1179, -2.1179, -2.1179]],\n",
      "\n",
      "         [[-2.0357, -2.0357, -2.0357,  ..., -2.0357, -2.0357, -2.0357],\n",
      "          [-2.0357, -2.0357, -2.0357,  ..., -2.0357, -2.0357, -2.0357],\n",
      "          [-2.0357, -2.0357, -2.0357,  ..., -2.0357, -2.0357, -2.0357],\n",
      "          ...,\n",
      "          [-2.0357, -2.0357, -2.0357,  ..., -2.0357, -2.0357, -2.0357],\n",
      "          [-2.0357, -2.0357, -2.0357,  ..., -2.0357, -2.0357, -2.0357],\n",
      "          [-2.0357, -2.0357, -2.0357,  ..., -2.0357, -2.0357, -2.0357]],\n",
      "\n",
      "         [[-1.8044, -1.8044, -1.8044,  ..., -1.8044, -1.8044, -1.8044],\n",
      "          [-1.8044, -1.8044, -1.8044,  ..., -1.8044, -1.8044, -1.8044],\n",
      "          [-1.8044, -1.8044, -1.8044,  ..., -1.8044, -1.8044, -1.8044],\n",
      "          ...,\n",
      "          [-1.8044, -1.8044, -1.8044,  ..., -1.8044, -1.8044, -1.8044],\n",
      "          [-1.8044, -1.8044, -1.8044,  ..., -1.8044, -1.8044, -1.8044],\n",
      "          [-1.8044, -1.8044, -1.8044,  ..., -1.8044, -1.8044, -1.8044]]],\n",
      "\n",
      "\n",
      "        [[[-2.1179, -2.1179, -2.1179,  ..., -2.1179, -2.1179, -2.1179],\n",
      "          [-2.1179, -2.1179, -2.1179,  ..., -2.1179, -2.1179, -2.1179],\n",
      "          [-2.1179, -2.1179, -2.1179,  ..., -2.1179, -2.1179, -2.1179],\n",
      "          ...,\n",
      "          [-2.1179, -2.1179, -2.1179,  ..., -2.1179, -2.1179, -2.1179],\n",
      "          [-2.1179, -2.1179, -2.1179,  ..., -2.1179, -2.1179, -2.1179],\n",
      "          [-2.1179, -2.1179, -2.1179,  ..., -2.1179, -2.1179, -2.1179]],\n",
      "\n",
      "         [[-2.0357, -2.0357, -2.0357,  ..., -2.0357, -2.0357, -2.0357],\n",
      "          [-2.0357, -2.0357, -2.0357,  ..., -2.0357, -2.0357, -2.0357],\n",
      "          [-2.0357, -2.0357, -2.0357,  ..., -2.0357, -2.0357, -2.0357],\n",
      "          ...,\n",
      "          [-2.0357, -2.0357, -2.0357,  ..., -2.0357, -2.0357, -2.0357],\n",
      "          [-2.0357, -2.0357, -2.0357,  ..., -2.0357, -2.0357, -2.0357],\n",
      "          [-2.0357, -2.0357, -2.0357,  ..., -2.0357, -2.0357, -2.0357]],\n",
      "\n",
      "         [[-1.8044, -1.8044, -1.8044,  ..., -1.8044, -1.8044, -1.8044],\n",
      "          [-1.8044, -1.8044, -1.8044,  ..., -1.8044, -1.8044, -1.8044],\n",
      "          [-1.8044, -1.8044, -1.8044,  ..., -1.8044, -1.8044, -1.8044],\n",
      "          ...,\n",
      "          [-1.8044, -1.8044, -1.8044,  ..., -1.8044, -1.8044, -1.8044],\n",
      "          [-1.8044, -1.8044, -1.8044,  ..., -1.8044, -1.8044, -1.8044],\n",
      "          [-1.8044, -1.8044, -1.8044,  ..., -1.8044, -1.8044, -1.8044]]],\n",
      "\n",
      "\n",
      "        [[[-2.1179, -2.1179, -2.1179,  ..., -2.1179, -2.1179, -2.1179],\n",
      "          [-2.1179, -2.1179, -2.1179,  ..., -2.1179, -2.1179, -2.1179],\n",
      "          [-2.1179, -2.1179, -2.1179,  ..., -2.1179, -2.1179, -2.1179],\n",
      "          ...,\n",
      "          [-2.1179, -2.1179, -2.1179,  ..., -2.1179, -2.1179, -2.1179],\n",
      "          [-2.1179, -2.1179, -2.1179,  ..., -2.1179, -2.1179, -2.1179],\n",
      "          [-2.1179, -2.1179, -2.1179,  ..., -2.1179, -2.1179, -2.1179]],\n",
      "\n",
      "         [[-2.0357, -2.0357, -2.0357,  ..., -2.0357, -2.0357, -2.0357],\n",
      "          [-2.0357, -2.0357, -2.0357,  ..., -2.0357, -2.0357, -2.0357],\n",
      "          [-2.0357, -2.0357, -2.0357,  ..., -2.0357, -2.0357, -2.0357],\n",
      "          ...,\n",
      "          [-2.0357, -2.0357, -2.0357,  ..., -2.0357, -2.0357, -2.0357],\n",
      "          [-2.0357, -2.0357, -2.0357,  ..., -2.0357, -2.0357, -2.0357],\n",
      "          [-2.0357, -2.0357, -2.0357,  ..., -2.0357, -2.0357, -2.0357]],\n",
      "\n",
      "         [[-1.8044, -1.8044, -1.8044,  ..., -1.8044, -1.8044, -1.8044],\n",
      "          [-1.8044, -1.8044, -1.8044,  ..., -1.8044, -1.8044, -1.8044],\n",
      "          [-1.8044, -1.8044, -1.8044,  ..., -1.8044, -1.8044, -1.8044],\n",
      "          ...,\n",
      "          [-1.8044, -1.8044, -1.8044,  ..., -1.8044, -1.8044, -1.8044],\n",
      "          [-1.8044, -1.8044, -1.8044,  ..., -1.8044, -1.8044, -1.8044],\n",
      "          [-1.8044, -1.8044, -1.8044,  ..., -1.8044, -1.8044, -1.8044]]]]), tensor([0, 0, 0, 1, 1, 2, 2, 0, 0, 0, 1, 2, 2, 1, 1, 0])]\n"
     ]
    }
   ],
   "source": [
    "print(next(iter(train_loader)))"
   ]
  },
  {
   "cell_type": "markdown",
   "metadata": {},
   "source": [
    "## Model Setup"
   ]
  },
  {
   "cell_type": "code",
   "execution_count": 132,
   "metadata": {},
   "outputs": [
    {
     "name": "stdout",
     "output_type": "stream",
     "text": [
      "Successfully loaded pretrained weights\n"
     ]
    }
   ],
   "source": [
    "# Initialize model and training components\n",
    "model = SteatosisModel(\n",
    "    pretrained_path=MODEL_PATH,\n",
    "    num_classes=NUM_CLASSES,\n",
    "    freeze_layers=True\n",
    ").to(device)\n",
    "\n",
    "optimizer = model.create_optimizer(\n",
    "    model.get_trainable_params(),\n",
    "    optimizer_type='adam',\n",
    "    lr=1e-3\n",
    ")\n",
    "scheduler = model.create_scheduler(optimizer, scheduler_type='plateau')\n",
    "loss_fn = get_loss_fn(NUM_CLASSES)\n",
    "metrics_calculator = MetricsCalculator(device=device)"
   ]
  },
  {
   "cell_type": "markdown",
   "metadata": {},
   "source": [
    "## Training Functions"
   ]
  },
  {
   "cell_type": "code",
   "execution_count": 133,
   "metadata": {},
   "outputs": [],
   "source": [
    "def compute_metrics(outputs, targets, metrics_calculator):\n",
    "    \"\"\"Compute metrics for a batch or epoch.\"\"\"\n",
    "    if BINARY == 1:\n",
    "        outputs = torch.sigmoid(outputs).squeeze(1)\n",
    "        metrics = metrics_calculator.compute_basic_metrics(targets, outputs)\n",
    "        metrics.update(\n",
    "            metrics_calculator.compute_roc_auc(targets, outputs)\n",
    "        )\n",
    "    # For multi-class classification\n",
    "    else:\n",
    "        outputs = torch.softmax(outputs, dim=1)\n",
    "        metrics = metrics_calculator.compute_multiclass_metrics(targets, outputs)\n",
    "        metrics.update(\n",
    "            metrics_calculator.compute_roc_auc(targets, outputs, multi_class=True)\n",
    "        )\n",
    "    return metrics\n",
    "\n",
    "# Reset BatchNorm statistics before validation\n",
    "def reset_bn_stats(model):\n",
    "    for m in model.modules():\n",
    "        if isinstance(m, torch.nn.BatchNorm2d):\n",
    "            m.reset_running_stats()\n",
    "            m.momentum = 0.1  # Default momentum\n",
    "\n",
    "def train_epoch(model, train_loader, optimizer, loss_fn, metrics_calculator, device):\n",
    "    \"\"\"Train for one epoch with detailed metric tracking.\"\"\"\n",
    "    model.train()\n",
    "    total_loss = 0.0\n",
    "    all_outputs = []\n",
    "    all_targets = []\n",
    "    \n",
    "    with tqdm(train_loader, desc='Training') as pbar:\n",
    "        for batch_idx, (data, target) in enumerate(pbar):\n",
    "            data, target = data.to(device), target.to(device)\n",
    "            \n",
    "            optimizer.zero_grad()\n",
    "            output = model(data)\n",
    "            # print(\".......................\")\n",
    "            # print(\"before modification\")\n",
    "            # print(output.shape)\n",
    "            # print(output)\n",
    "            # print(target.shape)\n",
    "            # print(target)\n",
    "            # print(\".......................\")\n",
    "\n",
    "            \n",
    "            if output.shape[1] == 1:  # Binary classification\n",
    "                output = output.squeeze(1)\n",
    "                target = target.float()\n",
    "            \n",
    "            # print(\".......................\")\n",
    "            # print(\"after modification\")\n",
    "            # print(output.shape)\n",
    "            # print(output)\n",
    "            # print(target.shape)\n",
    "            # print(target)\n",
    "            # print(\".......................\")\n",
    "            loss = loss_fn(output, target)\n",
    "            loss.backward()\n",
    "            torch.nn.utils.clip_grad_norm_(model.parameters(), max_norm=1.0)\n",
    "            optimizer.step()\n",
    "            \n",
    "            total_loss += loss.item()\n",
    "            all_outputs.append(output.detach())\n",
    "            all_targets.append(target)\n",
    "            \n",
    "            # Update progress bar\n",
    "            pbar.set_postfix({\n",
    "                'loss': f\"{loss.item():.4f}\",\n",
    "            })\n",
    "    \n",
    "    # Compute epoch metrics\n",
    "    outputs = torch.cat(all_outputs)\n",
    "    targets = torch.cat(all_targets)\n",
    "    epoch_metrics = compute_metrics(outputs, targets, metrics_calculator)\n",
    "    epoch_metrics['loss'] = total_loss / len(train_loader)\n",
    "    \n",
    "    return epoch_metrics\n",
    "\n",
    "def validate(model, val_loader, loss_fn, metrics_calculator, device):\n",
    "    \"\"\"Validate model and compute metrics.\"\"\"\n",
    "    model.eval()\n",
    "    total_loss = 0.0\n",
    "    all_outputs = []\n",
    "    all_targets = []\n",
    "    \n",
    "    with torch.no_grad():\n",
    "        for batch_idx, (data, target) in enumerate(tqdm(val_loader, desc='Validation')):\n",
    "            data, target = data.to(device), target.to(device)\n",
    "            output = model(data)\n",
    "            \n",
    "            # print(\".......................\")\n",
    "            # print(\"before modification\")\n",
    "            # print(output.shape)\n",
    "            # print(output)\n",
    "            # print(target.shape)\n",
    "            # print(target)\n",
    "            # print(\".......................\")\n",
    "            if output.shape[1] == 1:  # Binary classification\n",
    "                output = output.squeeze(1)\n",
    "                target = target.float()\n",
    "            \n",
    "            loss = loss_fn(output, target)\n",
    "            total_loss += loss.item()\n",
    "\n",
    "            # Store for metrics calculation\n",
    "            all_outputs.append(output)\n",
    "            all_targets.append(target)\n",
    "        \n",
    "    \n",
    "    # Compute epoch metrics\n",
    "    outputs = torch.cat(all_outputs)\n",
    "    targets = torch.cat(all_targets)\n",
    "    # print(\"outputs\")\n",
    "    # print(outputs.shape)\n",
    "    # print(outputs)\n",
    "    # print(\"targets\")\n",
    "    # print(targets.shape)\n",
    "    # print(targets)\n",
    "    epoch_metrics = compute_metrics(outputs, targets, metrics_calculator)\n",
    "    print(\"epoch_metrics\")\n",
    "    epoch_metrics['loss'] = total_loss / len(val_loader)\n",
    "    \n",
    "    return epoch_metrics\n",
    "\n",
    "def log_metrics(metrics, phase, epoch, step=None):\n",
    "    \"\"\"Log metrics to JSON file.\"\"\"\n",
    "    log_entry = {\n",
    "        'timestamp': datetime.now().isoformat(),\n",
    "        'phase': phase,\n",
    "        'epoch': epoch,\n",
    "        'metrics': metrics\n",
    "    }\n",
    "    if step is not None:\n",
    "        log_entry['step'] = step\n",
    "    \n",
    "    log_file = Path(LOG_DIR) / f'training_metrics-{RUN_NAME}.json'\n",
    "    \n",
    "    # Load existing logs if any\n",
    "    if log_file.exists():\n",
    "        with open(log_file, 'r') as f:\n",
    "            logs = json.load(f)\n",
    "    else:\n",
    "        logs = []\n",
    "    \n",
    "    # Append new log entry\n",
    "    logs.append(log_entry)\n",
    "    \n",
    "    # Save updated logs\n",
    "    with open(log_file, 'w') as f:\n",
    "        json.dump(logs, f, indent=2)"
   ]
  },
  {
   "cell_type": "markdown",
   "metadata": {},
   "source": [
    "## Training Loop"
   ]
  },
  {
   "cell_type": "code",
   "execution_count": 136,
   "metadata": {},
   "outputs": [
    {
     "name": "stdout",
     "output_type": "stream",
     "text": [
      "\n",
      "Starting Classifier Only (Phase 1)\n",
      "Learning rate: 0.001\n",
      "\n",
      "Epoch 1/10\n"
     ]
    },
    {
     "data": {
      "application/vnd.jupyter.widget-view+json": {
       "model_id": "821fee5f94644580a17bed9b980b2ea6",
       "version_major": 2,
       "version_minor": 0
      },
      "text/plain": [
       "Training:   0%|          | 0/277 [00:00<?, ?it/s]"
      ]
     },
     "metadata": {},
     "output_type": "display_data"
    },
    {
     "data": {
      "application/vnd.jupyter.widget-view+json": {
       "model_id": "6e445665a3f3482b8023b8428b6b6db2",
       "version_major": 2,
       "version_minor": 0
      },
      "text/plain": [
       "Validation:   0%|          | 0/46 [00:00<?, ?it/s]"
      ]
     },
     "metadata": {},
     "output_type": "display_data"
    },
    {
     "name": "stdout",
     "output_type": "stream",
     "text": [
      "epoch_metrics\n",
      "Train Loss: 1.0433, Macro F1: 0.0825\n",
      "Macro Roc Auc: 0.6477\n",
      "Val Loss: 40267.7198, Macro F1: 0.1571, Macro Roc Auc: 0.6603\n",
      "New best model saved! F1: 0.1571\n",
      "\n",
      "Epoch 2/10\n"
     ]
    },
    {
     "data": {
      "application/vnd.jupyter.widget-view+json": {
       "model_id": "23420e6ca38e4b8982e36bf56f039d30",
       "version_major": 2,
       "version_minor": 0
      },
      "text/plain": [
       "Training:   0%|          | 0/277 [00:00<?, ?it/s]"
      ]
     },
     "metadata": {},
     "output_type": "display_data"
    },
    {
     "data": {
      "application/vnd.jupyter.widget-view+json": {
       "model_id": "c51faca555db4f35ade16ed4e36b5416",
       "version_major": 2,
       "version_minor": 0
      },
      "text/plain": [
       "Validation:   0%|          | 0/46 [00:00<?, ?it/s]"
      ]
     },
     "metadata": {},
     "output_type": "display_data"
    },
    {
     "name": "stdout",
     "output_type": "stream",
     "text": [
      "epoch_metrics\n",
      "Train Loss: 1.0422, Macro F1: 0.1063\n",
      "Macro Roc Auc: 0.6409\n",
      "Val Loss: 56024.0010, Macro F1: 0.1365, Macro Roc Auc: 0.6667\n",
      "\n",
      "Epoch 3/10\n"
     ]
    },
    {
     "data": {
      "application/vnd.jupyter.widget-view+json": {
       "model_id": "861c4dea70fd48779760aebd2fd35ae5",
       "version_major": 2,
       "version_minor": 0
      },
      "text/plain": [
       "Training:   0%|          | 0/277 [00:00<?, ?it/s]"
      ]
     },
     "metadata": {},
     "output_type": "display_data"
    },
    {
     "data": {
      "application/vnd.jupyter.widget-view+json": {
       "model_id": "d4a73776fca14d618f6a1c60f2675f24",
       "version_major": 2,
       "version_minor": 0
      },
      "text/plain": [
       "Validation:   0%|          | 0/46 [00:00<?, ?it/s]"
      ]
     },
     "metadata": {},
     "output_type": "display_data"
    },
    {
     "name": "stdout",
     "output_type": "stream",
     "text": [
      "epoch_metrics\n",
      "Train Loss: 1.0399, Macro F1: 0.1137\n",
      "Macro Roc Auc: 0.6491\n",
      "Val Loss: 27563.9905, Macro F1: 0.0866, Macro Roc Auc: 0.6559\n",
      "\n",
      "Epoch 4/10\n"
     ]
    },
    {
     "data": {
      "application/vnd.jupyter.widget-view+json": {
       "model_id": "a357d8b8d7254ace942e524d1aacc874",
       "version_major": 2,
       "version_minor": 0
      },
      "text/plain": [
       "Training:   0%|          | 0/277 [00:00<?, ?it/s]"
      ]
     },
     "metadata": {},
     "output_type": "display_data"
    },
    {
     "data": {
      "application/vnd.jupyter.widget-view+json": {
       "model_id": "f780f6f76ef54425ace73005f60a6bc1",
       "version_major": 2,
       "version_minor": 0
      },
      "text/plain": [
       "Validation:   0%|          | 0/46 [00:00<?, ?it/s]"
      ]
     },
     "metadata": {},
     "output_type": "display_data"
    },
    {
     "name": "stdout",
     "output_type": "stream",
     "text": [
      "epoch_metrics\n",
      "Train Loss: 1.0339, Macro F1: 0.1317\n",
      "Macro Roc Auc: 0.6551\n",
      "Val Loss: 21580.4189, Macro F1: 0.1316, Macro Roc Auc: 0.6416\n",
      "\n",
      "Epoch 5/10\n"
     ]
    },
    {
     "data": {
      "application/vnd.jupyter.widget-view+json": {
       "model_id": "11153b0aee424b0cbf690152140898e2",
       "version_major": 2,
       "version_minor": 0
      },
      "text/plain": [
       "Training:   0%|          | 0/277 [00:00<?, ?it/s]"
      ]
     },
     "metadata": {},
     "output_type": "display_data"
    },
    {
     "data": {
      "application/vnd.jupyter.widget-view+json": {
       "model_id": "b56bb89d6b4546958576374e19c20d72",
       "version_major": 2,
       "version_minor": 0
      },
      "text/plain": [
       "Validation:   0%|          | 0/46 [00:00<?, ?it/s]"
      ]
     },
     "metadata": {},
     "output_type": "display_data"
    },
    {
     "name": "stdout",
     "output_type": "stream",
     "text": [
      "epoch_metrics\n",
      "Train Loss: 1.0372, Macro F1: 0.1375\n",
      "Macro Roc Auc: 0.6482\n",
      "Val Loss: 45372.9694, Macro F1: 0.1618, Macro Roc Auc: 0.6735\n",
      "New best model saved! F1: 0.1618\n",
      "\n",
      "Epoch 6/10\n"
     ]
    },
    {
     "data": {
      "application/vnd.jupyter.widget-view+json": {
       "model_id": "8446b50836e44b2bb9d2d6d9330f0484",
       "version_major": 2,
       "version_minor": 0
      },
      "text/plain": [
       "Training:   0%|          | 0/277 [00:00<?, ?it/s]"
      ]
     },
     "metadata": {},
     "output_type": "display_data"
    },
    {
     "data": {
      "application/vnd.jupyter.widget-view+json": {
       "model_id": "2d4d8d7317544413849b28535f4c8ec5",
       "version_major": 2,
       "version_minor": 0
      },
      "text/plain": [
       "Validation:   0%|          | 0/46 [00:00<?, ?it/s]"
      ]
     },
     "metadata": {},
     "output_type": "display_data"
    },
    {
     "name": "stdout",
     "output_type": "stream",
     "text": [
      "epoch_metrics\n",
      "Train Loss: 1.0332, Macro F1: 0.1438\n",
      "Macro Roc Auc: 0.6544\n",
      "Val Loss: 50633.5942, Macro F1: 0.1144, Macro Roc Auc: 0.6693\n",
      "\n",
      "Epoch 7/10\n"
     ]
    },
    {
     "data": {
      "application/vnd.jupyter.widget-view+json": {
       "model_id": "759bbef8648e4dd1a49225dffedb8139",
       "version_major": 2,
       "version_minor": 0
      },
      "text/plain": [
       "Training:   0%|          | 0/277 [00:00<?, ?it/s]"
      ]
     },
     "metadata": {},
     "output_type": "display_data"
    },
    {
     "data": {
      "application/vnd.jupyter.widget-view+json": {
       "model_id": "481b8953233c4d25bfd460f1cc55d65d",
       "version_major": 2,
       "version_minor": 0
      },
      "text/plain": [
       "Validation:   0%|          | 0/46 [00:00<?, ?it/s]"
      ]
     },
     "metadata": {},
     "output_type": "display_data"
    },
    {
     "name": "stdout",
     "output_type": "stream",
     "text": [
      "epoch_metrics\n",
      "Train Loss: 1.0336, Macro F1: 0.1387\n",
      "Macro Roc Auc: 0.6528\n",
      "Val Loss: 63667.1300, Macro F1: 0.1420, Macro Roc Auc: 0.6795\n",
      "\n",
      "Epoch 8/10\n"
     ]
    },
    {
     "data": {
      "application/vnd.jupyter.widget-view+json": {
       "model_id": "3c2f320f7f4e4fa1a0d5500c36a12c56",
       "version_major": 2,
       "version_minor": 0
      },
      "text/plain": [
       "Training:   0%|          | 0/277 [00:00<?, ?it/s]"
      ]
     },
     "metadata": {},
     "output_type": "display_data"
    },
    {
     "data": {
      "application/vnd.jupyter.widget-view+json": {
       "model_id": "d1a1cec9a6cc4d5d8c284ada5727cc87",
       "version_major": 2,
       "version_minor": 0
      },
      "text/plain": [
       "Validation:   0%|          | 0/46 [00:00<?, ?it/s]"
      ]
     },
     "metadata": {},
     "output_type": "display_data"
    },
    {
     "name": "stdout",
     "output_type": "stream",
     "text": [
      "epoch_metrics\n",
      "Train Loss: 1.0241, Macro F1: 0.1530\n",
      "Macro Roc Auc: 0.6632\n",
      "Val Loss: 75594.1143, Macro F1: 0.2456, Macro Roc Auc: 0.6929\n",
      "New best model saved! F1: 0.2456\n",
      "\n",
      "Epoch 9/10\n"
     ]
    },
    {
     "data": {
      "application/vnd.jupyter.widget-view+json": {
       "model_id": "bb3a901996194fc9a7c84d8bd8503543",
       "version_major": 2,
       "version_minor": 0
      },
      "text/plain": [
       "Training:   0%|          | 0/277 [00:00<?, ?it/s]"
      ]
     },
     "metadata": {},
     "output_type": "display_data"
    },
    {
     "data": {
      "application/vnd.jupyter.widget-view+json": {
       "model_id": "4929b2a42216494e9833ca916758f44d",
       "version_major": 2,
       "version_minor": 0
      },
      "text/plain": [
       "Validation:   0%|          | 0/46 [00:00<?, ?it/s]"
      ]
     },
     "metadata": {},
     "output_type": "display_data"
    },
    {
     "name": "stdout",
     "output_type": "stream",
     "text": [
      "epoch_metrics\n",
      "Train Loss: 1.0267, Macro F1: 0.1632\n",
      "Macro Roc Auc: 0.6605\n",
      "Val Loss: 28959.5295, Macro F1: 0.1019, Macro Roc Auc: 0.6615\n",
      "\n",
      "Epoch 10/10\n"
     ]
    },
    {
     "data": {
      "application/vnd.jupyter.widget-view+json": {
       "model_id": "789d3e59950648af9f710baa64ddfc33",
       "version_major": 2,
       "version_minor": 0
      },
      "text/plain": [
       "Training:   0%|          | 0/277 [00:00<?, ?it/s]"
      ]
     },
     "metadata": {},
     "output_type": "display_data"
    },
    {
     "data": {
      "application/vnd.jupyter.widget-view+json": {
       "model_id": "eeebe4c2d7864b0fbf22c969d1e9fd85",
       "version_major": 2,
       "version_minor": 0
      },
      "text/plain": [
       "Validation:   0%|          | 0/46 [00:00<?, ?it/s]"
      ]
     },
     "metadata": {},
     "output_type": "display_data"
    },
    {
     "name": "stdout",
     "output_type": "stream",
     "text": [
      "epoch_metrics\n",
      "Train Loss: 1.0249, Macro F1: 0.1499\n",
      "Macro Roc Auc: 0.6638\n",
      "Val Loss: 83400.9875, Macro F1: 0.2345, Macro Roc Auc: 0.6890\n",
      "\n",
      "Starting Partial Unfreeze (Phase 2)\n",
      "Learning rate: 0.0001\n",
      "\n",
      "Epoch 1/15\n"
     ]
    },
    {
     "data": {
      "application/vnd.jupyter.widget-view+json": {
       "model_id": "be8ea5460143486188aefd90a15134c3",
       "version_major": 2,
       "version_minor": 0
      },
      "text/plain": [
       "Training:   0%|          | 0/277 [00:00<?, ?it/s]"
      ]
     },
     "metadata": {},
     "output_type": "display_data"
    },
    {
     "data": {
      "application/vnd.jupyter.widget-view+json": {
       "model_id": "90ffbd2a51b8414bba93caf4e0f9d2c2",
       "version_major": 2,
       "version_minor": 0
      },
      "text/plain": [
       "Validation:   0%|          | 0/46 [00:00<?, ?it/s]"
      ]
     },
     "metadata": {},
     "output_type": "display_data"
    },
    {
     "name": "stdout",
     "output_type": "stream",
     "text": [
      "epoch_metrics\n",
      "Train Loss: 1.0314, Macro F1: 0.1409\n",
      "Macro Roc Auc: 0.6558\n",
      "Val Loss: 41685.7570, Macro F1: 0.2099, Macro Roc Auc: 0.6605\n",
      "\n",
      "Epoch 2/15\n"
     ]
    },
    {
     "data": {
      "application/vnd.jupyter.widget-view+json": {
       "model_id": "4322276266b44b179e4d92351573e28d",
       "version_major": 2,
       "version_minor": 0
      },
      "text/plain": [
       "Training:   0%|          | 0/277 [00:00<?, ?it/s]"
      ]
     },
     "metadata": {},
     "output_type": "display_data"
    },
    {
     "data": {
      "application/vnd.jupyter.widget-view+json": {
       "model_id": "628620ea2bf14b859949755f80ec505c",
       "version_major": 2,
       "version_minor": 0
      },
      "text/plain": [
       "Validation:   0%|          | 0/46 [00:00<?, ?it/s]"
      ]
     },
     "metadata": {},
     "output_type": "display_data"
    },
    {
     "name": "stdout",
     "output_type": "stream",
     "text": [
      "epoch_metrics\n",
      "Train Loss: 1.0262, Macro F1: 0.1444\n",
      "Macro Roc Auc: 0.6625\n",
      "Val Loss: 49790.4843, Macro F1: 0.2196, Macro Roc Auc: 0.6726\n",
      "\n",
      "Epoch 3/15\n"
     ]
    },
    {
     "data": {
      "application/vnd.jupyter.widget-view+json": {
       "model_id": "e525a48b93a34f49a3b1e0d972e65d05",
       "version_major": 2,
       "version_minor": 0
      },
      "text/plain": [
       "Training:   0%|          | 0/277 [00:00<?, ?it/s]"
      ]
     },
     "metadata": {},
     "output_type": "display_data"
    },
    {
     "data": {
      "application/vnd.jupyter.widget-view+json": {
       "model_id": "2d78e7a597af41d08f1dfd8cecc0a655",
       "version_major": 2,
       "version_minor": 0
      },
      "text/plain": [
       "Validation:   0%|          | 0/46 [00:00<?, ?it/s]"
      ]
     },
     "metadata": {},
     "output_type": "display_data"
    },
    {
     "name": "stdout",
     "output_type": "stream",
     "text": [
      "epoch_metrics\n",
      "Train Loss: 1.0237, Macro F1: 0.1651\n",
      "Macro Roc Auc: 0.6639\n",
      "Val Loss: 35981.6646, Macro F1: 0.2338, Macro Roc Auc: 0.6536\n",
      "Early stopping triggered after 5 epochs without improvement\n",
      "\n",
      "Starting Full Fine-tuning (Phase 3)\n",
      "Learning rate: 1e-05\n",
      "\n",
      "Epoch 1/20\n"
     ]
    },
    {
     "data": {
      "application/vnd.jupyter.widget-view+json": {
       "model_id": "6786766b715d449f9b0199f65d71c13d",
       "version_major": 2,
       "version_minor": 0
      },
      "text/plain": [
       "Training:   0%|          | 0/277 [00:00<?, ?it/s]"
      ]
     },
     "metadata": {},
     "output_type": "display_data"
    },
    {
     "data": {
      "application/vnd.jupyter.widget-view+json": {
       "model_id": "011f661323b9467caa1785e0786481da",
       "version_major": 2,
       "version_minor": 0
      },
      "text/plain": [
       "Validation:   0%|          | 0/46 [00:00<?, ?it/s]"
      ]
     },
     "metadata": {},
     "output_type": "display_data"
    },
    {
     "name": "stdout",
     "output_type": "stream",
     "text": [
      "epoch_metrics\n",
      "Train Loss: 1.0347, Macro F1: 0.1573\n",
      "Macro Roc Auc: 0.6523\n",
      "Val Loss: 102683.4391, Macro F1: 0.2111, Macro Roc Auc: 0.6783\n",
      "\n",
      "Epoch 2/20\n"
     ]
    },
    {
     "data": {
      "application/vnd.jupyter.widget-view+json": {
       "model_id": "3a463f0f40314fd2b37e41552ef5d917",
       "version_major": 2,
       "version_minor": 0
      },
      "text/plain": [
       "Training:   0%|          | 0/277 [00:00<?, ?it/s]"
      ]
     },
     "metadata": {},
     "output_type": "display_data"
    },
    {
     "data": {
      "application/vnd.jupyter.widget-view+json": {
       "model_id": "da707dd90a774ec4b4dfd504854b6743",
       "version_major": 2,
       "version_minor": 0
      },
      "text/plain": [
       "Validation:   0%|          | 0/46 [00:00<?, ?it/s]"
      ]
     },
     "metadata": {},
     "output_type": "display_data"
    },
    {
     "name": "stdout",
     "output_type": "stream",
     "text": [
      "epoch_metrics\n",
      "Train Loss: 1.0294, Macro F1: 0.1492\n",
      "Macro Roc Auc: 0.6574\n",
      "Val Loss: 94208.3334, Macro F1: 0.1676, Macro Roc Auc: 0.6627\n",
      "\n",
      "Epoch 3/20\n"
     ]
    },
    {
     "data": {
      "application/vnd.jupyter.widget-view+json": {
       "model_id": "c453673aa5dd49ffa655e8999f60f5ae",
       "version_major": 2,
       "version_minor": 0
      },
      "text/plain": [
       "Training:   0%|          | 0/277 [00:00<?, ?it/s]"
      ]
     },
     "metadata": {},
     "output_type": "display_data"
    },
    {
     "data": {
      "application/vnd.jupyter.widget-view+json": {
       "model_id": "84a92726f2344986899d8a8d6a2fce9a",
       "version_major": 2,
       "version_minor": 0
      },
      "text/plain": [
       "Validation:   0%|          | 0/46 [00:00<?, ?it/s]"
      ]
     },
     "metadata": {},
     "output_type": "display_data"
    },
    {
     "name": "stdout",
     "output_type": "stream",
     "text": [
      "epoch_metrics\n",
      "Train Loss: 1.0244, Macro F1: 0.1471\n",
      "Macro Roc Auc: 0.6688\n",
      "Val Loss: 21331.0110, Macro F1: 0.2069, Macro Roc Auc: 0.6697\n",
      "\n",
      "Epoch 4/20\n"
     ]
    },
    {
     "data": {
      "application/vnd.jupyter.widget-view+json": {
       "model_id": "7d303eafccba4eefb4083ddc4e820f83",
       "version_major": 2,
       "version_minor": 0
      },
      "text/plain": [
       "Training:   0%|          | 0/277 [00:00<?, ?it/s]"
      ]
     },
     "metadata": {},
     "output_type": "display_data"
    },
    {
     "data": {
      "application/vnd.jupyter.widget-view+json": {
       "model_id": "92ce054bd5714662aad4b12eba410573",
       "version_major": 2,
       "version_minor": 0
      },
      "text/plain": [
       "Validation:   0%|          | 0/46 [00:00<?, ?it/s]"
      ]
     },
     "metadata": {},
     "output_type": "display_data"
    },
    {
     "name": "stdout",
     "output_type": "stream",
     "text": [
      "epoch_metrics\n",
      "Train Loss: 1.0278, Macro F1: 0.1463\n",
      "Macro Roc Auc: 0.6650\n",
      "Val Loss: 32303.9696, Macro F1: 0.1373, Macro Roc Auc: 0.6522\n",
      "\n",
      "Epoch 5/20\n"
     ]
    },
    {
     "data": {
      "application/vnd.jupyter.widget-view+json": {
       "model_id": "d8ee8c29d90a4032909eca8570c1e661",
       "version_major": 2,
       "version_minor": 0
      },
      "text/plain": [
       "Training:   0%|          | 0/277 [00:00<?, ?it/s]"
      ]
     },
     "metadata": {},
     "output_type": "display_data"
    },
    {
     "data": {
      "application/vnd.jupyter.widget-view+json": {
       "model_id": "83d80b47e2fb4223997d0c2eaa8a9512",
       "version_major": 2,
       "version_minor": 0
      },
      "text/plain": [
       "Validation:   0%|          | 0/46 [00:00<?, ?it/s]"
      ]
     },
     "metadata": {},
     "output_type": "display_data"
    },
    {
     "name": "stdout",
     "output_type": "stream",
     "text": [
      "epoch_metrics\n",
      "Train Loss: 1.0262, Macro F1: 0.1545\n",
      "Macro Roc Auc: 0.6620\n",
      "Val Loss: 27224.0445, Macro F1: 0.2101, Macro Roc Auc: 0.6781\n",
      "Early stopping triggered after 5 epochs without improvement\n"
     ]
    }
   ],
   "source": [
    "# Training phases configuration\n",
    "phases = [\n",
    "    {'name': 'Classifier Only', 'epochs': 10, 'blocks': None, 'lr': 1e-3},\n",
    "    {'name': 'Partial Unfreeze', 'epochs': 15, 'blocks': 2, 'lr': 1e-4},\n",
    "    {'name': 'Full Fine-tuning', 'epochs': 20, 'blocks': None, 'lr': 1e-5}\n",
    "]\n",
    "\n",
    "# Training history\n",
    "history = defaultdict(list)\n",
    "\n",
    "# Best model tracking\n",
    "best_metric = 0.0\n",
    "patience_counter = 0\n",
    "early_stopping_patience = 5\n",
    "\n",
    "try:\n",
    "    # Training loop\n",
    "    for phase_idx, phase in enumerate(phases):\n",
    "        print(f\"\\nStarting {phase['name']} (Phase {phase_idx + 1})\")\n",
    "        print(f\"Learning rate: {phase['lr']}\")\n",
    "        \n",
    "        # Update model for this phase\n",
    "        model.unfreeze_layers(phase['blocks'])\n",
    "        for param_group in optimizer.param_groups:\n",
    "            param_group['lr'] = phase['lr']\n",
    "        \n",
    "        for epoch in range(phase['epochs']):\n",
    "            print(f\"\\nEpoch {epoch + 1}/{phase['epochs']}\")\n",
    "            \n",
    "            # Train\n",
    "            train_metrics = train_epoch(\n",
    "                model, train_loader, optimizer, loss_fn, metrics_calculator, device\n",
    "            )\n",
    "            \n",
    "            # Log training metrics\n",
    "            log_metrics(train_metrics, 'train', epoch)\n",
    "            \n",
    "            # Validate\n",
    "            val_metrics = validate(\n",
    "                model, val_loader, loss_fn, metrics_calculator, device\n",
    "            )\n",
    "            \n",
    "            # Log validation metrics\n",
    "            log_metrics(val_metrics, 'val', epoch)\n",
    "            \n",
    "            # Update learning rate scheduler\n",
    "            if isinstance(scheduler, torch.optim.lr_scheduler.ReduceLROnPlateau):\n",
    "                if BINARY:\n",
    "                    scheduler.step(val_metrics['roc_auc'])\n",
    "                else:\n",
    "                    scheduler.step(val_metrics['macro']['macro_f1_score'])\n",
    "            else:\n",
    "                scheduler.step()\n",
    "            \n",
    "            # Update history\n",
    "            for k, v in train_metrics.items():\n",
    "                history[f'train_{k}'].append(v)\n",
    "            for k, v in val_metrics.items():\n",
    "                history[f'val_{k}'].append(v)\n",
    "            \n",
    "            # Print metrics\n",
    "            if BINARY:\n",
    "                print(\n",
    "                    f\"Train Loss: {train_metrics['loss']:.4f}, \"\n",
    "                    f\"F1: {train_metrics['f1_score']:.4f}, \"\n",
    "                    f\"AUC: {train_metrics['roc_auc']:.4f}\\n\"\n",
    "                    f\"Val Loss: {val_metrics['loss']:.4f}, \"\n",
    "                    f\"F1: {val_metrics['f1_score']:.4f}, \"\n",
    "                    f\"AUC: {val_metrics['roc_auc']:.4f}\"\n",
    "                )\n",
    "            else: \n",
    "                print(\n",
    "                    f\"Train Loss: {train_metrics['loss']:.4f}, \"\n",
    "                    f\"Macro F1: {train_metrics['macro']['macro_f1_score']:.4f}\\n\"\n",
    "                    f\"Macro Roc Auc: {train_metrics['macro_roc_auc']:.4f}\\n\"\n",
    "                    f\"Val Loss: {val_metrics['loss']:.4f}, \"\n",
    "                    f\"Macro F1: {val_metrics['macro']['macro_f1_score']:.4f}, \"\n",
    "                    f\"Macro Roc Auc: {val_metrics['macro_roc_auc']:.4f}\"\n",
    "                )\n",
    "            \n",
    "            # Save best model\n",
    "            if BINARY and val_metrics['f1_score'] > best_metric:\n",
    "                best_metric = val_metrics['f1_score']\n",
    "            elif not BINARY and val_metrics['macro']['macro_f1_score'] > best_metric:\n",
    "                best_metric = val_metrics['macro']['macro_f1_score']\n",
    "                # model.save(f\"{OUTPUT_DIR}/best_model.pt\")\n",
    "                torch.save(model.state_dict(), f\"{OUTPUT_DIR}/best_model_state_dict.pt\")\n",
    "                patience_counter = 0\n",
    "                print(f\"New best model saved! F1: {best_metric:.4f}\")\n",
    "            else:\n",
    "                patience_counter += 1\n",
    "            \n",
    "            # Early stopping\n",
    "            if patience_counter >= early_stopping_patience:\n",
    "                print(f\"Early stopping triggered after {patience_counter} epochs without improvement\")\n",
    "                state_dict = torch.load(f\"{OUTPUT_DIR}/best_model_state_dict.pt\")\n",
    "                model.load_state_dict(state_dict)\n",
    "                # model.load(f\"{OUTPUT_DIR}/best_model.pt\")  # Load best model\n",
    "                patience_counter = 0\n",
    "                break\n",
    "        \n",
    "        # Save phase checkpoint\n",
    "        model.save(f\"{OUTPUT_DIR}/phase_{phase_idx + 1}_model.pt\")\n",
    "        \n",
    "    # Save final history\n",
    "    with open(f\"{OUTPUT_DIR}/training_history.json\", 'w') as f:\n",
    "        json.dump(history, f, indent=2)\n",
    "        \n",
    "except Exception as e:\n",
    "    print(f\"Error during training: {str(e)}\")\n",
    "    raise"
   ]
  },
  {
   "cell_type": "markdown",
   "metadata": {},
   "source": [
    "## Training Visualization"
   ]
  },
  {
   "cell_type": "code",
   "execution_count": null,
   "metadata": {},
   "outputs": [
    {
     "data": {
      "image/png": "[encoded data removed]",
      "text/plain": [
       "<Figure size 1500x1000 with 6 Axes>"
      ]
     },
     "metadata": {},
     "output_type": "display_data"
    },
    {
     "name": "stdout",
     "output_type": "stream",
     "text": [
      "\n",
      "Final training metrics:\n"
     ]
    },
    {
     "ename": "KeyError",
     "evalue": "'phase'",
     "output_type": "error",
     "traceback": [
      "\u001b[31m---------------------------------------------------------------------------\u001b[39m",
      "\u001b[31mKeyError\u001b[39m                                  Traceback (most recent call last)",
      "\u001b[36mFile \u001b[39m\u001b[32m~/dev/steatosis_classification/.venv/lib/python3.11/site-packages/pandas/core/indexes/base.py:3805\u001b[39m, in \u001b[36mIndex.get_loc\u001b[39m\u001b[34m(self, key)\u001b[39m\n\u001b[32m   3804\u001b[39m \u001b[38;5;28;01mtry\u001b[39;00m:\n\u001b[32m-> \u001b[39m\u001b[32m3805\u001b[39m     \u001b[38;5;28;01mreturn\u001b[39;00m \u001b[38;5;28;43mself\u001b[39;49m\u001b[43m.\u001b[49m\u001b[43m_engine\u001b[49m\u001b[43m.\u001b[49m\u001b[43mget_loc\u001b[49m\u001b[43m(\u001b[49m\u001b[43mcasted_key\u001b[49m\u001b[43m)\u001b[49m\n\u001b[32m   3806\u001b[39m \u001b[38;5;28;01mexcept\u001b[39;00m \u001b[38;5;167;01mKeyError\u001b[39;00m \u001b[38;5;28;01mas\u001b[39;00m err:\n",
      "\u001b[36mFile \u001b[39m\u001b[32mindex.pyx:167\u001b[39m, in \u001b[36mpandas._libs.index.IndexEngine.get_loc\u001b[39m\u001b[34m()\u001b[39m\n",
      "\u001b[36mFile \u001b[39m\u001b[32mindex.pyx:196\u001b[39m, in \u001b[36mpandas._libs.index.IndexEngine.get_loc\u001b[39m\u001b[34m()\u001b[39m\n",
      "\u001b[36mFile \u001b[39m\u001b[32mpandas/_libs/hashtable_class_helper.pxi:7081\u001b[39m, in \u001b[36mpandas._libs.hashtable.PyObjectHashTable.get_item\u001b[39m\u001b[34m()\u001b[39m\n",
      "\u001b[36mFile \u001b[39m\u001b[32mpandas/_libs/hashtable_class_helper.pxi:7089\u001b[39m, in \u001b[36mpandas._libs.hashtable.PyObjectHashTable.get_item\u001b[39m\u001b[34m()\u001b[39m\n",
      "\u001b[31mKeyError\u001b[39m: 'phase'",
      "\nThe above exception was the direct cause of the following exception:\n",
      "\u001b[31mKeyError\u001b[39m                                  Traceback (most recent call last)",
      "\u001b[36mCell\u001b[39m\u001b[36m \u001b[39m\u001b[32mIn[10]\u001b[39m\u001b[32m, line 41\u001b[39m\n\u001b[32m     39\u001b[39m df = pd.json_normalize(logs)\n\u001b[32m     40\u001b[39m \u001b[38;5;28mprint\u001b[39m(\u001b[33m\"\u001b[39m\u001b[38;5;130;01m\\n\u001b[39;00m\u001b[33mFinal training metrics:\u001b[39m\u001b[33m\"\u001b[39m)\n\u001b[32m---> \u001b[39m\u001b[32m41\u001b[39m \u001b[38;5;28mprint\u001b[39m(df[\u001b[43mdf\u001b[49m\u001b[43m[\u001b[49m\u001b[33;43m'\u001b[39;49m\u001b[33;43mphase\u001b[39;49m\u001b[33;43m'\u001b[39;49m\u001b[43m]\u001b[49m == \u001b[33m'\u001b[39m\u001b[33mtrain\u001b[39m\u001b[33m'\u001b[39m].tail())\n\u001b[32m     42\u001b[39m \u001b[38;5;28mprint\u001b[39m(\u001b[33m\"\u001b[39m\u001b[38;5;130;01m\\n\u001b[39;00m\u001b[33mFinal validation metrics:\u001b[39m\u001b[33m\"\u001b[39m)\n\u001b[32m     43\u001b[39m \u001b[38;5;28mprint\u001b[39m(df[df[\u001b[33m'\u001b[39m\u001b[33mphase\u001b[39m\u001b[33m'\u001b[39m] == \u001b[33m'\u001b[39m\u001b[33mval\u001b[39m\u001b[33m'\u001b[39m].tail())\n",
      "\u001b[36mFile \u001b[39m\u001b[32m~/dev/steatosis_classification/.venv/lib/python3.11/site-packages/pandas/core/frame.py:4102\u001b[39m, in \u001b[36mDataFrame.__getitem__\u001b[39m\u001b[34m(self, key)\u001b[39m\n\u001b[32m   4100\u001b[39m \u001b[38;5;28;01mif\u001b[39;00m \u001b[38;5;28mself\u001b[39m.columns.nlevels > \u001b[32m1\u001b[39m:\n\u001b[32m   4101\u001b[39m     \u001b[38;5;28;01mreturn\u001b[39;00m \u001b[38;5;28mself\u001b[39m._getitem_multilevel(key)\n\u001b[32m-> \u001b[39m\u001b[32m4102\u001b[39m indexer = \u001b[38;5;28;43mself\u001b[39;49m\u001b[43m.\u001b[49m\u001b[43mcolumns\u001b[49m\u001b[43m.\u001b[49m\u001b[43mget_loc\u001b[49m\u001b[43m(\u001b[49m\u001b[43mkey\u001b[49m\u001b[43m)\u001b[49m\n\u001b[32m   4103\u001b[39m \u001b[38;5;28;01mif\u001b[39;00m is_integer(indexer):\n\u001b[32m   4104\u001b[39m     indexer = [indexer]\n",
      "\u001b[36mFile \u001b[39m\u001b[32m~/dev/steatosis_classification/.venv/lib/python3.11/site-packages/pandas/core/indexes/base.py:3812\u001b[39m, in \u001b[36mIndex.get_loc\u001b[39m\u001b[34m(self, key)\u001b[39m\n\u001b[32m   3807\u001b[39m     \u001b[38;5;28;01mif\u001b[39;00m \u001b[38;5;28misinstance\u001b[39m(casted_key, \u001b[38;5;28mslice\u001b[39m) \u001b[38;5;129;01mor\u001b[39;00m (\n\u001b[32m   3808\u001b[39m         \u001b[38;5;28misinstance\u001b[39m(casted_key, abc.Iterable)\n\u001b[32m   3809\u001b[39m         \u001b[38;5;129;01mand\u001b[39;00m \u001b[38;5;28many\u001b[39m(\u001b[38;5;28misinstance\u001b[39m(x, \u001b[38;5;28mslice\u001b[39m) \u001b[38;5;28;01mfor\u001b[39;00m x \u001b[38;5;129;01min\u001b[39;00m casted_key)\n\u001b[32m   3810\u001b[39m     ):\n\u001b[32m   3811\u001b[39m         \u001b[38;5;28;01mraise\u001b[39;00m InvalidIndexError(key)\n\u001b[32m-> \u001b[39m\u001b[32m3812\u001b[39m     \u001b[38;5;28;01mraise\u001b[39;00m \u001b[38;5;167;01mKeyError\u001b[39;00m(key) \u001b[38;5;28;01mfrom\u001b[39;00m\u001b[38;5;250m \u001b[39m\u001b[34;01merr\u001b[39;00m\n\u001b[32m   3813\u001b[39m \u001b[38;5;28;01mexcept\u001b[39;00m \u001b[38;5;167;01mTypeError\u001b[39;00m:\n\u001b[32m   3814\u001b[39m     \u001b[38;5;66;03m# If we have a listlike key, _check_indexing_error will raise\u001b[39;00m\n\u001b[32m   3815\u001b[39m     \u001b[38;5;66;03m#  InvalidIndexError. Otherwise we fall through and re-raise\u001b[39;00m\n\u001b[32m   3816\u001b[39m     \u001b[38;5;66;03m#  the TypeError.\u001b[39;00m\n\u001b[32m   3817\u001b[39m     \u001b[38;5;28mself\u001b[39m._check_indexing_error(key)\n",
      "\u001b[31mKeyError\u001b[39m: 'phase'"
     ]
    }
   ],
   "source": [
    "def plot_metrics(history):\n",
    "    \"\"\"Plot training and validation metrics.\"\"\"\n",
    "    metrics = [\n",
    "        ('loss', 'Loss'),\n",
    "        ('f1_score', 'F1 Score'),\n",
    "        ('roc_auc', 'ROC AUC'),\n",
    "        ('sensitivity', 'Sensitivity'),\n",
    "        ('specificity', 'Specificity')\n",
    "    ]\n",
    "    \n",
    "    fig, axes = plt.subplots(2, 3, figsize=(15, 10))\n",
    "    axes = axes.flatten()\n",
    "    \n",
    "    for idx, (metric, title) in enumerate(metrics):\n",
    "        if idx < len(axes):\n",
    "            train_key = f'train_{metric}'\n",
    "            val_key = f'val_{metric}'\n",
    "            \n",
    "            if train_key in history and val_key in history:\n",
    "                axes[idx].plot(history[train_key], label='Train')\n",
    "                axes[idx].plot(history[val_key], label='Validation')\n",
    "                axes[idx].set_title(title)\n",
    "                axes[idx].set_xlabel('Epoch')\n",
    "                axes[idx].grid(True)\n",
    "                axes[idx].legend()\n",
    "    \n",
    "    plt.tight_layout()\n",
    "    plt.savefig(f\"{OUTPUT_DIR}/training_metrics.png\")\n",
    "    plt.show()\n",
    "\n",
    "# Plot training history\n",
    "plot_metrics(history)\n",
    "\n",
    "# Load and display detailed metrics\n",
    "with open(f\"{LOG_DIR}/training_metrics.json\", 'r') as f:\n",
    "    logs = json.load(f)\n",
    "\n",
    "# Convert to DataFrame for analysis\n",
    "df = pd.json_normalize(logs)\n",
    "print(\"\\nFinal training metrics:\")\n",
    "print(df[df['phase'] == 'train'].tail())\n",
    "print(\"\\nFinal validation metrics:\")\n",
    "print(df[df['phase'] == 'val'].tail())"
   ]
  }
 ],
 "metadata": {
  "kernelspec": {
   "display_name": ".venv",
   "language": "python",
   "name": "python3"
  },
  "language_info": {
   "codemirror_mode": {
    "name": "ipython",
    "version": 3
   },
   "file_extension": ".py",
   "mimetype": "text/x-python",
   "name": "python",
   "nbconvert_exporter": "python",
   "pygments_lexer": "ipython3",
   "version": "3.11.2"
  }
 },
 "nbformat": 4,
 "nbformat_minor": 4
}
