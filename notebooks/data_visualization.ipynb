{
 "cells": [
  {
   "cell_type": "code",
   "execution_count": 5,
   "metadata": {},
   "outputs": [],
   "source": [
    "import numpy as np\n",
    "import matplotlib.pyplot as plt\n",
    "from pathlib import Path\n",
    "import random\n",
    "from PIL import Image\n",
    "%matplotlib inline\n"
   ]
  },
  {
   "cell_type": "code",
   "execution_count": 6,
   "metadata": {},
   "outputs": [],
   "source": [
    "def get_image_paths(base_path, split, class_name):\n",
    "    \"\"\"Get all image paths for a specific class and split.\"\"\"\n",
    "    path = Path(base_path) / 'DataSet' / 'DataSet' / split / class_name\n",
    "    image_paths = [f for f in path.glob('*.png')]\n",
    "    print(f\"Found {len(image_paths)} images in {str(path)}\")\n",
    "    return image_paths"
   ]
  },
  {
   "cell_type": "code",
   "execution_count": 7,
   "metadata": {},
   "outputs": [],
   "source": [
    "def display_train_test_comparison(base_path):\n",
    "    \"\"\"Display one sample from each class for both training and testing sets.\"\"\"\n",
    "    classes = ['Normal', 'Mild', 'Moderate', 'Severe']\n",
    "    \n",
    "    # Create a figure with subplots with proper spacing\n",
    "    fig, axes = plt.subplots(len(classes), 2, figsize=(14, 4*len(classes)), \n",
    "                            gridspec_kw={'wspace': 0, 'hspace': 0.1})\n",
    "    fig.suptitle('Training vs Testing Samples Comparison', fontsize=16)\n",
    "    \n",
    "    # Set column titles\n",
    "    axes[0, 0].set_title('Training Set', pad=10)\n",
    "    axes[0, 1].set_title('Testing Set', pad=10)\n",
    "    \n",
    "    for idx, class_name in enumerate(classes):\n",
    "        try:\n",
    "            # Get random samples from training and testing sets\n",
    "            train_paths = get_image_paths(base_path, 'train', class_name)\n",
    "            test_paths = get_image_paths(base_path, 'test', class_name)\n",
    "            \n",
    "            if not train_paths or not test_paths:\n",
    "                print(f\"Warning: No images found for {class_name} in train or test set\")\n",
    "                continue\n",
    "            \n",
    "            train_sample = Image.open(random.choice(train_paths))\n",
    "            test_sample = Image.open(random.choice(test_paths))\n",
    "            \n",
    "            # Display images with class labels\n",
    "            axes[idx, 0].imshow(train_sample)\n",
    "            axes[idx, 0].set_ylabel(class_name, fontsize=14, fontweight='bold')\n",
    "            axes[idx, 0].set_xlabel(f\"Size: {train_sample.size}\", fontsize=10)\n",
    "            axes[idx, 0].axis('off')\n",
    "            \n",
    "            axes[idx, 1].imshow(test_sample)\n",
    "            axes[idx, 1].set_xlabel(f\"Size: {test_sample.size}\", fontsize=10)\n",
    "            axes[idx, 1].axis('off')\n",
    "            \n",
    "            # Add row label showing the class\n",
    "            row_label = fig.text(0.01, axes[idx, 0].get_position().y0 + \n",
    "                                 (axes[idx, 0].get_position().height/2),\n",
    "                                 f\"Class: {class_name}\", fontsize=12, fontweight='bold',\n",
    "                                 ha='left', va='center',\n",
    "                                 bbox=dict(facecolor='white', alpha=0.8, boxstyle='round,pad=0.3'))\n",
    "            \n",
    "        except Exception as e:\n",
    "            print(f\"Error processing {class_name}: {str(e)}\")\n",
    "            continue\n",
    "    \n",
    "    plt.subplots_adjust(left=0.15, right=0.95)\n",
    "    plt.show()"
   ]
  },
  {
   "cell_type": "code",
   "execution_count": 8,
   "metadata": {},
   "outputs": [],
   "source": [
    "def print_dataset_statistics(base_path):\n",
    "    \"\"\"Print the number of images in each class for both splits.\"\"\"\n",
    "    classes = ['Normal', 'Mild', 'Moderate', 'Severe']\n",
    "    splits = ['train', 'test']\n",
    "    \n",
    "    for split in splits:\n",
    "        print(f\"\\n{split.capitalize()} Set Statistics:\")\n",
    "        print(\"-\" * 20)\n",
    "        total = 0\n",
    "        for class_name in classes:\n",
    "            count = len(get_image_paths(base_path, split, class_name))\n",
    "            total += count\n",
    "            print(f\"{class_name:10s}: {count:5d} images\")\n",
    "        print(f\"{'Total':10s}: {total:5d} images\\n\")"
   ]
  },
  {
   "cell_type": "code",
   "execution_count": 9,
   "metadata": {},
   "outputs": [
    {
     "name": "stdout",
     "output_type": "stream",
     "text": []
    }
   ],
   "source": [
    "# Print dataset statistics\n",
    "print(\"Dataset Statistics:\")\n",
    "print_dataset_statistics('.')"
   ]
  },
  {
   "cell_type": "code",
   "execution_count": 10,
   "metadata": {},
   "outputs": [
    {
     "name": "stdout",
     "output_type": "stream",
     "text": []
    },
    {
     "name": "stdout",
     "output_type": "stream",
     "text": []
    }
   ],
   "source": [
    "# Display sample images\n",
    "print(\"\\nDisplaying one random sample from each class comparing training and testing sets...\")\n",
    "display_train_test_comparison('.')"
   ]
  }
 ],
 "metadata": {
  "kernelspec": {
   "display_name": ".venv",
   "language": "python",
   "name": "python3"
  },
  "language_info": {
   "codemirror_mode": {
    "name": "ipython",
    "version": 3
   },
   "file_extension": ".py",
   "mimetype": "text/x-python",
   "name": "python",
   "nbconvert_exporter": "python",
   "pygments_lexer": "ipython3",
   "version": "3.11.2"
  }
 },
 "nbformat": 4,
 "nbformat_minor": 4
}
